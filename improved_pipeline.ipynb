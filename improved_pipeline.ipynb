{
 "cells": [
  {
   "cell_type": "code",
   "execution_count": null,
   "id": "69e2c97c-728b-478d-928c-83e7e676db48",
   "metadata": {},
   "outputs": [],
   "source": [
    "!pip install spacy-sentence-bert\n",
    "!pip install scikit-learn"
   ]
  },
  {
   "cell_type": "code",
   "execution_count": null,
   "id": "3d7dd4f7-4a0c-4891-8668-5069e3f977a9",
   "metadata": {},
   "outputs": [],
   "source": [
    "import pandas as pd\n",
    "import numpy as np\n",
    "import matplotlib.pyplot as plt\n",
    "import sklearn"
   ]
  },
  {
   "cell_type": "markdown",
   "id": "18ff2388-99da-4805-b28b-93403991d018",
   "metadata": {},
   "source": [
    "#### Steps to add to last manipulation\n",
    "1. Governance and data Management\n",
    "- Governance: user name data masking\n",
    "  \n",
    "2. Data Overview and Preprocessing\n",
    "- use labels value distribution to determine if imbalanced class if yes what to do about it (random oversampling?)\n",
    "- Add default class, dataset augmentation or default class predict based on confidence threshold\n",
    "- Consitent labelling: one class for loan, credit debit card,\n",
    "- rename some labels\n",
    "  \n",
    "3. Model Evaluation\n",
    "- Model evaluation: add confusion matrix\n",
    "- augment the number(4) of models type to cross evaluate performance, display all their confusion matrix in one plot inline\n",
    "- add comparison of model performance with original and augmented datasets ?"
   ]
  },
  {
   "cell_type": "code",
   "execution_count": null,
   "id": "e56373ea-34e8-4c72-8780-051e61b7e064",
   "metadata": {},
   "outputs": [],
   "source": []
  }
 ],
 "metadata": {
  "kernelspec": {
   "display_name": "Python 3 (ipykernel)",
   "language": "python",
   "name": "python3"
  },
  "language_info": {
   "codemirror_mode": {
    "name": "ipython",
    "version": 3
   },
   "file_extension": ".py",
   "mimetype": "text/x-python",
   "name": "python",
   "nbconvert_exporter": "python",
   "pygments_lexer": "ipython3",
   "version": "3.10.12"
  }
 },
 "nbformat": 4,
 "nbformat_minor": 5
}
