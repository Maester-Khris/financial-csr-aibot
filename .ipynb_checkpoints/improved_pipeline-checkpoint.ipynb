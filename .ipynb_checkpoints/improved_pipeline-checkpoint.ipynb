{
 "cells": [
  {
   "cell_type": "code",
   "execution_count": null,
   "id": "69e2c97c-728b-478d-928c-83e7e676db48",
   "metadata": {},
   "outputs": [],
   "source": [
    "!pip install spacy-sentence-bert\n",
    "!pip install scikit-learn"
   ]
  },
  {
   "cell_type": "code",
   "execution_count": 17,
   "id": "3d7dd4f7-4a0c-4891-8668-5069e3f977a9",
   "metadata": {},
   "outputs": [],
   "source": [
    "import pandas as pd\n",
    "import numpy as np\n",
    "import spacy\n",
    "import matplotlib.pyplot as plt\n",
    "from sklearn.metrics import accuracy_score, confusion_matrix"
   ]
  },
  {
   "cell_type": "code",
   "execution_count": 18,
   "id": "00735670-d47c-4112-bd32-8b7a66a4bbf2",
   "metadata": {},
   "outputs": [],
   "source": [
    "nlp = spacy.load(\"en_core_web_sm\")"
   ]
  },
  {
   "cell_type": "markdown",
   "id": "18ff2388-99da-4805-b28b-93403991d018",
   "metadata": {},
   "source": [
    "#### Steps to add to last manipulation\n",
    "1. Governance and data Management\n",
    "- Governance: user name data masking\n",
    "  \n",
    "2. Data Overview and Preprocessing\n",
    "- use labels value distribution to determine if imbalanced class if yes what to do about it (random oversampling?)\n",
    "- Add default class, dataset augmentation or default class predict based on confidence threshold\n",
    "- Consitent labelling: one class for loan, credit debit card,\n",
    "- rename some labels\n",
    "- use scatter to show data distribution before and after smote\n",
    "  \n",
    "3. Model Evaluation\n",
    "- Model evaluation: add confusion matrix\n",
    "- augment the number(4) of models type to cross evaluate performance, display all their confusion matrix in one plot inline\n",
    "- add comparison of model performance with original and augmented datasets ?\n",
    "\n",
    "4. Retry clean\n",
    "- use en_md model: it has word vector for semantic similarity"
   ]
  },
  {
   "cell_type": "code",
   "execution_count": 6,
   "id": "e56373ea-34e8-4c72-8780-051e61b7e064",
   "metadata": {},
   "outputs": [],
   "source": [
    "datapath = \"./datasets/banking_csr_conversation.csv\"\n",
    "df = pd.read_csv(datapath)"
   ]
  },
  {
   "cell_type": "code",
   "execution_count": 10,
   "id": "e0f6751e-de48-4caa-a470-31264e6d6f2c",
   "metadata": {},
   "outputs": [],
   "source": [
    "df.columns = [\"rowid\", \"interaction\", \"label\"]\n",
    "df[\"anonymized_interaction\"] = ''"
   ]
  },
  {
   "cell_type": "code",
   "execution_count": 43,
   "id": "16c9498d-90d3-45fa-a818-1d06047fda3d",
   "metadata": {},
   "outputs": [
    {
     "data": {
      "text/html": [
       "<div>\n",
       "<style scoped>\n",
       "    .dataframe tbody tr th:only-of-type {\n",
       "        vertical-align: middle;\n",
       "    }\n",
       "\n",
       "    .dataframe tbody tr th {\n",
       "        vertical-align: top;\n",
       "    }\n",
       "\n",
       "    .dataframe thead th {\n",
       "        text-align: right;\n",
       "    }\n",
       "</style>\n",
       "<table border=\"1\" class=\"dataframe\">\n",
       "  <thead>\n",
       "    <tr style=\"text-align: right;\">\n",
       "      <th></th>\n",
       "      <th>rowid</th>\n",
       "      <th>interaction</th>\n",
       "      <th>label</th>\n",
       "      <th>anonymized_interaction</th>\n",
       "    </tr>\n",
       "  </thead>\n",
       "  <tbody>\n",
       "    <tr>\n",
       "      <th>0</th>\n",
       "      <td>5c69b568-4dd6-41c6-903a-90ab47256acf</td>\n",
       "      <td>Hi Sarah, my name is Alice. What are the inter...</td>\n",
       "      <td>Loan</td>\n",
       "      <td></td>\n",
       "    </tr>\n",
       "    <tr>\n",
       "      <th>1</th>\n",
       "      <td>a79cec64-9bd7-49a0-9657-81c80fd5ea4c</td>\n",
       "      <td>Hi Sarah, my name is David, How long does it t...</td>\n",
       "      <td>Loan</td>\n",
       "      <td></td>\n",
       "    </tr>\n",
       "  </tbody>\n",
       "</table>\n",
       "</div>"
      ],
      "text/plain": [
       "                                  rowid  \\\n",
       "0  5c69b568-4dd6-41c6-903a-90ab47256acf   \n",
       "1  a79cec64-9bd7-49a0-9657-81c80fd5ea4c   \n",
       "\n",
       "                                         interaction label  \\\n",
       "0  Hi Sarah, my name is Alice. What are the inter...  Loan   \n",
       "1  Hi Sarah, my name is David, How long does it t...  Loan   \n",
       "\n",
       "  anonymized_interaction  \n",
       "0                         \n",
       "1                         "
      ]
     },
     "execution_count": 43,
     "metadata": {},
     "output_type": "execute_result"
    }
   ],
   "source": [
    "# df.shape\n",
    "# df = df.drop(['questions', 'anonymized'], axis=1)\n",
    "# df[\"anonymized_interaction\"] = ''\n",
    "# df.head(2)"
   ]
  },
  {
   "cell_type": "code",
   "execution_count": 35,
   "id": "b8ebc76b-7984-498a-a76c-596523de24fe",
   "metadata": {},
   "outputs": [
    {
     "name": "stdout",
     "output_type": "stream",
     "text": [
      "Hi Sarah, my name is Alice. Can I link my debit card to a digital wallet, such as Samsung Pay or PayPal? Is there a chance I could obtain some particulars from you?\n",
      "Hi Sarah, my name is Alice. Hi, I want to know if I can link my debit card to a digital wallet like Samsung Pay or Garmin Pay. Can you provide me with some information?\n"
     ]
    }
   ],
   "source": [
    "samsung_lines = df[df['interaction'].str.contains('Samsung', case=False, na=False)]\n",
    "for line in samsung_lines['interaction']:\n",
    "    print(line)"
   ]
  },
  {
   "cell_type": "code",
   "execution_count": 33,
   "id": "33e5cd41-8c1c-45ba-b221-55fc5eb3524f",
   "metadata": {},
   "outputs": [
    {
     "name": "stdout",
     "output_type": "stream",
     "text": [
      "[('Samsung', 'ORG')]\n"
     ]
    }
   ],
   "source": [
    "testdoc = nlp(\"This is a Samsung.\")\n",
    "processed = [(ent.text, ent.label_) for ent in testdoc.ents]\n",
    "print(processed)"
   ]
  },
  {
   "cell_type": "markdown",
   "id": "9d7d3dda-45eb-41c6-bc16-111f76c87018",
   "metadata": {},
   "source": [
    "### Helper methods"
   ]
  },
  {
   "cell_type": "code",
   "execution_count": 82,
   "id": "fe81fe10-79f0-46bd-ace1-3eacb7fcc1a4",
   "metadata": {},
   "outputs": [],
   "source": [
    "def anonymize_names_v2(doc):\n",
    "    text = doc.text\n",
    "    replacements = {}\n",
    "    name_id = 1\n",
    "\n",
    "    for ent in doc.ents:\n",
    "        if ent.label_ == \"PERSON\":\n",
    "            replacements[(ent.start_char, ent.end_char)] = f\"[NAME_{name_id}]\"\n",
    "            name_id += 1\n",
    "\n",
    "    # Sort from last to first to avoid offset shifting\n",
    "    new_text = text\n",
    "    for (start, end), placeholder in sorted(replacements.items(), reverse=True):\n",
    "        new_text = new_text[:start] + placeholder + new_text[end:]\n",
    "\n",
    "    return new_text, replacements\n",
    "\n",
    "def deanonymize_text(text, mapping):\n",
    "    reverse_mapping = {v: k for k, v in mapping.items()}\n",
    "    for anon, original in reverse_mapping.items():\n",
    "        text = text.replace(anon, original)\n",
    "    return text\n",
    "    # revert back code \n",
    "    # Add a column with the reverted text\n",
    "    # df['deanonymized'] = df.apply(lambda row: deanonymize_text(row['anonymized'], row['name_mapping']), axis=1)\n",
    "\n",
    "def text_topic_similarity(text, topic):\n",
    "    doc1 = nlp(text)\n",
    "    doc2 = nlp(topic)\n",
    "    \n",
    "    return doc1.similarity(doc2)"
   ]
  },
  {
   "cell_type": "code",
   "execution_count": 81,
   "id": "0bc94239-a86a-4cb5-9c90-fce74e581947",
   "metadata": {},
   "outputs": [],
   "source": [
    "# texts = df['interaction'].tolist()\n",
    "# docs = list(nlp.pipe(texts, batch_size=50))\n",
    "# df[\"anonymized_interaction\"] = [anonymize_names(doc) for doc in nlp.pipe(df['interaction'], batch_size=50)]\n",
    "# df[\"anonymized_interaction\"] = [anonymize_names_v2(doc) for doc in nlp.pipe(df['interaction'], batch_size=50)]\n",
    "\n",
    "# Apply to DataFrame and store mappings\n",
    "anonymized_results = []\n",
    "replacement_maps = []\n",
    "\n",
    "for doc in nlp.pipe(df['interaction'], batch_size=50):\n",
    "    anonymized_text, mapping = anonymize_names_v2(doc)\n",
    "    anonymized_results.append(anonymized_text)\n",
    "    replacement_maps.append(mapping)\n",
    "\n",
    "# Store results\n",
    "df['anonymized_interaction'] = anonymized_results\n",
    "df['name_mapping'] = replacement_maps"
   ]
  },
  {
   "cell_type": "code",
   "execution_count": 52,
   "id": "b1e6b211-3891-4734-9d85-87140c338f5a",
   "metadata": {},
   "outputs": [
    {
     "data": {
      "text/html": [
       "<div>\n",
       "<style scoped>\n",
       "    .dataframe tbody tr th:only-of-type {\n",
       "        vertical-align: middle;\n",
       "    }\n",
       "\n",
       "    .dataframe tbody tr th {\n",
       "        vertical-align: top;\n",
       "    }\n",
       "\n",
       "    .dataframe thead th {\n",
       "        text-align: right;\n",
       "    }\n",
       "</style>\n",
       "<table border=\"1\" class=\"dataframe\">\n",
       "  <thead>\n",
       "    <tr style=\"text-align: right;\">\n",
       "      <th></th>\n",
       "      <th>rowid</th>\n",
       "      <th>interaction</th>\n",
       "      <th>label</th>\n",
       "      <th>anonymized_interaction</th>\n",
       "      <th>name_mapping</th>\n",
       "    </tr>\n",
       "  </thead>\n",
       "  <tbody>\n",
       "    <tr>\n",
       "      <th>0</th>\n",
       "      <td>5c69b568-4dd6-41c6-903a-90ab47256acf</td>\n",
       "      <td>Hi Sarah, my name is Alice. What are the inter...</td>\n",
       "      <td>Loan</td>\n",
       "      <td>Hi [NAME_1], my name is [NAME_2]. What are the...</td>\n",
       "      <td>{(3, 8): '[NAME_1]', (21, 26): '[NAME_2]'}</td>\n",
       "    </tr>\n",
       "    <tr>\n",
       "      <th>1</th>\n",
       "      <td>a79cec64-9bd7-49a0-9657-81c80fd5ea4c</td>\n",
       "      <td>Hi Sarah, my name is David, How long does it t...</td>\n",
       "      <td>Loan</td>\n",
       "      <td>Hi [NAME_1], my name is [NAME_2], How long doe...</td>\n",
       "      <td>{(3, 8): '[NAME_1]', (21, 26): '[NAME_2]'}</td>\n",
       "    </tr>\n",
       "    <tr>\n",
       "      <th>2</th>\n",
       "      <td>a8041599-b4bd-4adf-b490-cdf9b0498cb5</td>\n",
       "      <td>Hi Sarah, my name is Emily,  What documents do...</td>\n",
       "      <td>Loan</td>\n",
       "      <td>Hi [NAME_1], my name is Emily,  What documents...</td>\n",
       "      <td>{(3, 8): '[NAME_1]'}</td>\n",
       "    </tr>\n",
       "    <tr>\n",
       "      <th>3</th>\n",
       "      <td>41408428-a2f5-4516-8272-f99cdb5225d8</td>\n",
       "      <td>Hi Sarah, my name is Michael,  Can I get a loa...</td>\n",
       "      <td>Loan</td>\n",
       "      <td>Hi [NAME_1], my name is [NAME_2],  Can I get a...</td>\n",
       "      <td>{(3, 8): '[NAME_1]', (21, 28): '[NAME_2]'}</td>\n",
       "    </tr>\n",
       "    <tr>\n",
       "      <th>4</th>\n",
       "      <td>b457f4b4-9060-4f05-b34f-61f41d003a9f</td>\n",
       "      <td>Hi Sarah, my name is Alice. Are there any upfr...</td>\n",
       "      <td>Loan</td>\n",
       "      <td>Hi [NAME_1], my name is [NAME_2]. Are there an...</td>\n",
       "      <td>{(3, 8): '[NAME_1]', (21, 26): '[NAME_2]'}</td>\n",
       "    </tr>\n",
       "  </tbody>\n",
       "</table>\n",
       "</div>"
      ],
      "text/plain": [
       "                                  rowid  \\\n",
       "0  5c69b568-4dd6-41c6-903a-90ab47256acf   \n",
       "1  a79cec64-9bd7-49a0-9657-81c80fd5ea4c   \n",
       "2  a8041599-b4bd-4adf-b490-cdf9b0498cb5   \n",
       "3  41408428-a2f5-4516-8272-f99cdb5225d8   \n",
       "4  b457f4b4-9060-4f05-b34f-61f41d003a9f   \n",
       "\n",
       "                                         interaction label  \\\n",
       "0  Hi Sarah, my name is Alice. What are the inter...  Loan   \n",
       "1  Hi Sarah, my name is David, How long does it t...  Loan   \n",
       "2  Hi Sarah, my name is Emily,  What documents do...  Loan   \n",
       "3  Hi Sarah, my name is Michael,  Can I get a loa...  Loan   \n",
       "4  Hi Sarah, my name is Alice. Are there any upfr...  Loan   \n",
       "\n",
       "                              anonymized_interaction  \\\n",
       "0  Hi [NAME_1], my name is [NAME_2]. What are the...   \n",
       "1  Hi [NAME_1], my name is [NAME_2], How long doe...   \n",
       "2  Hi [NAME_1], my name is Emily,  What documents...   \n",
       "3  Hi [NAME_1], my name is [NAME_2],  Can I get a...   \n",
       "4  Hi [NAME_1], my name is [NAME_2]. Are there an...   \n",
       "\n",
       "                                 name_mapping  \n",
       "0  {(3, 8): '[NAME_1]', (21, 26): '[NAME_2]'}  \n",
       "1  {(3, 8): '[NAME_1]', (21, 26): '[NAME_2]'}  \n",
       "2                        {(3, 8): '[NAME_1]'}  \n",
       "3  {(3, 8): '[NAME_1]', (21, 28): '[NAME_2]'}  \n",
       "4  {(3, 8): '[NAME_1]', (21, 26): '[NAME_2]'}  "
      ]
     },
     "execution_count": 52,
     "metadata": {},
     "output_type": "execute_result"
    }
   ],
   "source": [
    "df.head(2)"
   ]
  },
  {
   "cell_type": "markdown",
   "id": "18b5e9f6-a1e7-410b-9e2c-91621892f6d0",
   "metadata": {},
   "source": [
    "### Value distribution and label processing"
   ]
  },
  {
   "cell_type": "code",
   "execution_count": 55,
   "id": "3291f26a-ec2e-45d3-a3fa-f77c3ff4c778",
   "metadata": {},
   "outputs": [],
   "source": [
    "df_anonymized = df[[\"rowid\", \"anonymized_interaction\", \"label\"]]\n",
    "# df_anonymized.head(3)"
   ]
  },
  {
   "cell_type": "code",
   "execution_count": 66,
   "id": "91342976-249c-44c3-bd2a-d96281c870a3",
   "metadata": {},
   "outputs": [],
   "source": [
    "overview = df_anonymized[df_anonymized['label']==\"Sales\"]"
   ]
  },
  {
   "cell_type": "code",
   "execution_count": 71,
   "id": "c908bb37-058c-4f50-8c52-5d511a1fc1d1",
   "metadata": {},
   "outputs": [],
   "source": [
    "#overview"
   ]
  },
  {
   "cell_type": "code",
   "execution_count": 69,
   "id": "0876b39b-224b-47e4-ac47-5a688c61d2e5",
   "metadata": {},
   "outputs": [
    {
     "name": "stdout",
     "output_type": "stream",
     "text": [
      "Hi [NAME_1], my name is [NAME_2], Hello, I want to apply for a credit card with rewards for beauty and wellness purchases. What are my choices? Might you be able to supply me with the necessary information?\n",
      "Hi [NAME_1], my name is [NAME_2], I'm looking for a credit card with no annual fee. Are there any cards on sale that match my requirement? I'm interested in obtaining some data. Could you assist me?\n",
      "Hi [NAME_1], my name is Emily,  I'm interested in a credit card that offers bonus points. Are there any special promotions on bonus rewards? Is there a chance I could obtain some particulars from you?\n",
      "Hi [NAME_1], my name is [NAME_2],  I want a credit card with exclusive discounts. Are there any sales or deals on cards with discount benefits? I'm interested in obtaining some data. Could you assist me?\n",
      "Hi [NAME_1], my name is [NAME_2]. I want a credit card that offers rewards on grocery purchases. Are there any sales or promotions on cards with grocery rewards? Would it be possible for you to share some insights?\n"
     ]
    }
   ],
   "source": [
    "overview = overview.head(5)\n",
    "for line in overview[\"anonymized_interaction\"]:\n",
    "    print(line)"
   ]
  },
  {
   "cell_type": "code",
   "execution_count": 75,
   "id": "445caa12-69f1-4e4f-9210-c768c9222101",
   "metadata": {},
   "outputs": [],
   "source": [
    "## proper label setting\n",
    "topics = ['Account Details', 'New Account', 'Account Inquiries', 'Product Inquiries', \n",
    "          'Debit/Credit Card Issues', 'Transactions & Payments',  'Loan and Credit Services', \n",
    "          'Fraud and Security Concerns','Fees and Charges','General Financial Advice',\n",
    "          'Appointments', 'Technical Support', 'Escalations', 'Complaints', 'Other']\n",
    "\n",
    "df_anonymized = df_anonymized.replace({'label':\n",
    "    {\n",
    "        \"AccountDetails\":\"Account Details\",\n",
    "        \"Loan\":\"Loan and Credit Services\",\"HomeLoan\":\"Loan and Credit Services\",\"AutoLoan\":\"Loan and Credit Services\",\n",
    "        \"DebitCard\":\"Debit/Credit Card\",\"CreditCard\":\"Debit/Credit Card\",\n",
    "        \"Offers\":\"Product Inquiries\",\n",
    "        \"Grievances\":\"Complaints\",\n",
    "        \"TechSupport\":\"Technical Support\"\n",
    "    }\n",
    "})"
   ]
  },
  {
   "cell_type": "code",
   "execution_count": 78,
   "id": "594936e2-3dad-4248-b6c4-3d63f765b366",
   "metadata": {},
   "outputs": [],
   "source": [
    "#df_anonymized[\"label\"].value_counts()\n",
    "df_anonymized[\"original_label_confidence\"] = 0\n",
    "df_anonymized[\"new_label\"] = \"\"\n",
    "df_anonymized[\"new_label_confidence\"] = 0"
   ]
  },
  {
   "cell_type": "code",
   "execution_count": 83,
   "id": "3b7fbaa4-a3b6-48f3-8783-1b84a5caa0fa",
   "metadata": {},
   "outputs": [
    {
     "data": {
      "text/html": [
       "<div>\n",
       "<style scoped>\n",
       "    .dataframe tbody tr th:only-of-type {\n",
       "        vertical-align: middle;\n",
       "    }\n",
       "\n",
       "    .dataframe tbody tr th {\n",
       "        vertical-align: top;\n",
       "    }\n",
       "\n",
       "    .dataframe thead th {\n",
       "        text-align: right;\n",
       "    }\n",
       "</style>\n",
       "<table border=\"1\" class=\"dataframe\">\n",
       "  <thead>\n",
       "    <tr style=\"text-align: right;\">\n",
       "      <th></th>\n",
       "      <th>rowid</th>\n",
       "      <th>anonymized_interaction</th>\n",
       "      <th>label</th>\n",
       "      <th>original_label_confidence</th>\n",
       "      <th>new_label</th>\n",
       "      <th>new_label_confidence</th>\n",
       "    </tr>\n",
       "  </thead>\n",
       "  <tbody>\n",
       "    <tr>\n",
       "      <th>0</th>\n",
       "      <td>5c69b568-4dd6-41c6-903a-90ab47256acf</td>\n",
       "      <td>Hi [NAME_1], my name is [NAME_2]. What are the...</td>\n",
       "      <td>Loan and Credit Services</td>\n",
       "      <td>0</td>\n",
       "      <td></td>\n",
       "      <td>0</td>\n",
       "    </tr>\n",
       "    <tr>\n",
       "      <th>1</th>\n",
       "      <td>a79cec64-9bd7-49a0-9657-81c80fd5ea4c</td>\n",
       "      <td>Hi [NAME_1], my name is [NAME_2], How long doe...</td>\n",
       "      <td>Loan and Credit Services</td>\n",
       "      <td>0</td>\n",
       "      <td></td>\n",
       "      <td>0</td>\n",
       "    </tr>\n",
       "  </tbody>\n",
       "</table>\n",
       "</div>"
      ],
      "text/plain": [
       "                                  rowid  \\\n",
       "0  5c69b568-4dd6-41c6-903a-90ab47256acf   \n",
       "1  a79cec64-9bd7-49a0-9657-81c80fd5ea4c   \n",
       "\n",
       "                              anonymized_interaction  \\\n",
       "0  Hi [NAME_1], my name is [NAME_2]. What are the...   \n",
       "1  Hi [NAME_1], my name is [NAME_2], How long doe...   \n",
       "\n",
       "                      label  original_label_confidence new_label  \\\n",
       "0  Loan and Credit Services                          0             \n",
       "1  Loan and Credit Services                          0             \n",
       "\n",
       "   new_label_confidence  \n",
       "0                     0  \n",
       "1                     0  "
      ]
     },
     "execution_count": 83,
     "metadata": {},
     "output_type": "execute_result"
    }
   ],
   "source": [
    "df_anonymized.head(2)"
   ]
  },
  {
   "cell_type": "code",
   "execution_count": 88,
   "id": "113a2b0e-7cc9-444e-9f29-65bd141b97a9",
   "metadata": {},
   "outputs": [
    {
     "name": "stderr",
     "output_type": "stream",
     "text": [
      "/tmp/ipykernel_281880/3346753781.py:31: UserWarning: [W007] The model you're using has no word vectors loaded, so the result of the Doc.similarity method will be based on the tagger, parser and NER, which may not give useful similarity judgements. This may happen if you're using one of the small models, e.g. `en_core_web_sm`, which don't ship with word vectors and only use context-sensitive tensors. You can always add your own word vectors, or use one of the larger models instead if available.\n",
      "  return doc1.similarity(doc2)\n"
     ]
    }
   ],
   "source": [
    "df_anonymized[\"label_doc\"] = df_anonymized[\"label\"].apply(nlp)\n",
    "df_anonymized[\"original_label_confidence\"] = df_anonymized.apply(\n",
    "    lambda row: text_topic_similarity(row[\"anonymized_interaction\"], row[\"label_doc\"]) * 100 , axis=1\n",
    ")"
   ]
  },
  {
   "cell_type": "code",
   "execution_count": 87,
   "id": "69036b47-4555-49d3-b4a8-fc1f78bfed72",
   "metadata": {},
   "outputs": [
    {
     "data": {
      "text/html": [
       "<div>\n",
       "<style scoped>\n",
       "    .dataframe tbody tr th:only-of-type {\n",
       "        vertical-align: middle;\n",
       "    }\n",
       "\n",
       "    .dataframe tbody tr th {\n",
       "        vertical-align: top;\n",
       "    }\n",
       "\n",
       "    .dataframe thead th {\n",
       "        text-align: right;\n",
       "    }\n",
       "</style>\n",
       "<table border=\"1\" class=\"dataframe\">\n",
       "  <thead>\n",
       "    <tr style=\"text-align: right;\">\n",
       "      <th></th>\n",
       "      <th>label</th>\n",
       "      <th>label_doc</th>\n",
       "      <th>original_label_confidence</th>\n",
       "    </tr>\n",
       "  </thead>\n",
       "  <tbody>\n",
       "    <tr>\n",
       "      <th>0</th>\n",
       "      <td>Loan and Credit Services</td>\n",
       "      <td>(Loan, and, Credit, Services)</td>\n",
       "      <td>0.078143</td>\n",
       "    </tr>\n",
       "    <tr>\n",
       "      <th>1</th>\n",
       "      <td>Loan and Credit Services</td>\n",
       "      <td>(Loan, and, Credit, Services)</td>\n",
       "      <td>0.025535</td>\n",
       "    </tr>\n",
       "    <tr>\n",
       "      <th>2</th>\n",
       "      <td>Loan and Credit Services</td>\n",
       "      <td>(Loan, and, Credit, Services)</td>\n",
       "      <td>0.004194</td>\n",
       "    </tr>\n",
       "    <tr>\n",
       "      <th>3</th>\n",
       "      <td>Loan and Credit Services</td>\n",
       "      <td>(Loan, and, Credit, Services)</td>\n",
       "      <td>-0.050527</td>\n",
       "    </tr>\n",
       "    <tr>\n",
       "      <th>4</th>\n",
       "      <td>Loan and Credit Services</td>\n",
       "      <td>(Loan, and, Credit, Services)</td>\n",
       "      <td>0.024130</td>\n",
       "    </tr>\n",
       "    <tr>\n",
       "      <th>...</th>\n",
       "      <td>...</td>\n",
       "      <td>...</td>\n",
       "      <td>...</td>\n",
       "    </tr>\n",
       "    <tr>\n",
       "      <th>1583</th>\n",
       "      <td>Complaints</td>\n",
       "      <td>(Complaints)</td>\n",
       "      <td>0.243543</td>\n",
       "    </tr>\n",
       "    <tr>\n",
       "      <th>1584</th>\n",
       "      <td>Complaints</td>\n",
       "      <td>(Complaints)</td>\n",
       "      <td>0.135744</td>\n",
       "    </tr>\n",
       "    <tr>\n",
       "      <th>1585</th>\n",
       "      <td>Complaints</td>\n",
       "      <td>(Complaints)</td>\n",
       "      <td>0.106983</td>\n",
       "    </tr>\n",
       "    <tr>\n",
       "      <th>1586</th>\n",
       "      <td>Complaints</td>\n",
       "      <td>(Complaints)</td>\n",
       "      <td>0.079432</td>\n",
       "    </tr>\n",
       "    <tr>\n",
       "      <th>1587</th>\n",
       "      <td>Complaints</td>\n",
       "      <td>(Complaints)</td>\n",
       "      <td>0.124559</td>\n",
       "    </tr>\n",
       "  </tbody>\n",
       "</table>\n",
       "<p>1588 rows × 3 columns</p>\n",
       "</div>"
      ],
      "text/plain": [
       "                         label                      label_doc  \\\n",
       "0     Loan and Credit Services  (Loan, and, Credit, Services)   \n",
       "1     Loan and Credit Services  (Loan, and, Credit, Services)   \n",
       "2     Loan and Credit Services  (Loan, and, Credit, Services)   \n",
       "3     Loan and Credit Services  (Loan, and, Credit, Services)   \n",
       "4     Loan and Credit Services  (Loan, and, Credit, Services)   \n",
       "...                        ...                            ...   \n",
       "1583                Complaints                   (Complaints)   \n",
       "1584                Complaints                   (Complaints)   \n",
       "1585                Complaints                   (Complaints)   \n",
       "1586                Complaints                   (Complaints)   \n",
       "1587                Complaints                   (Complaints)   \n",
       "\n",
       "      original_label_confidence  \n",
       "0                      0.078143  \n",
       "1                      0.025535  \n",
       "2                      0.004194  \n",
       "3                     -0.050527  \n",
       "4                      0.024130  \n",
       "...                         ...  \n",
       "1583                   0.243543  \n",
       "1584                   0.135744  \n",
       "1585                   0.106983  \n",
       "1586                   0.079432  \n",
       "1587                   0.124559  \n",
       "\n",
       "[1588 rows x 3 columns]"
      ]
     },
     "execution_count": 87,
     "metadata": {},
     "output_type": "execute_result"
    }
   ],
   "source": [
    "df_anonymized[[\"label\", \"label_doc\", \"original_label_confidence\"]]"
   ]
  },
  {
   "cell_type": "code",
   "execution_count": null,
   "id": "b686d77b-9d4a-4a18-8449-e2cdd13ac384",
   "metadata": {},
   "outputs": [],
   "source": [
    "!pip install -U sentence-transformers"
   ]
  },
  {
   "cell_type": "code",
   "execution_count": null,
   "id": "89dabce1-e11b-4ccf-a004-95d26130faa8",
   "metadata": {},
   "outputs": [],
   "source": [
    "from sentence_transformers import SentenceTransformer, util\n",
    "from tqdm import tqdm\n",
    "model = SentenceTransformer(\"all-MiniLM-L6-v2\")  "
   ]
  },
  {
   "cell_type": "code",
   "execution_count": null,
   "id": "4c0b75a2-0d59-414f-9623-5a5d225f04a0",
   "metadata": {},
   "outputs": [],
   "source": [
    "# List of class labels\n",
    "topics = ['Account Details', 'New Account', 'Account Inquiries', 'Product Inquiries', \n",
    "          'Debit/Credit Card Issues', 'Transactions & Payments',  'Loan and Credit Services', \n",
    "          'Fraud and Security Concerns','Fees and Charges','General Financial Advice',\n",
    "          'Appointments', 'Technical Support', 'Escalations', 'Complaints', 'Other']\n",
    "\n",
    "# Precompute embeddings\n",
    "topics_embeddings = model.encode(topics, convert_to_tensor=True)\n",
    "text_inputs = df_anonymized[\"anonymized_interaction\"].tolist()\n",
    "text_embeddings = model.encode(text_inputs, convert_to_tensor=True)\n",
    "\n",
    "# Store results\n",
    "predicted_labels = []\n",
    "confidence_scores = []\n",
    "\n",
    "for text_emb in tqdm(text_embeddings):\n",
    "    similarities = util.cos_sim(text_emb, topics_embeddings)\n",
    "    best_idx = similarities.argmax().item()\n",
    "    predicted_labels.append(topics[best_idx])\n",
    "    confidence_scores.append(similarities[0][best_idx].item())\n",
    "\n",
    "# Add results to the dataframe\n",
    "df_anonymized[\"new_label\"] = predicted_labels\n",
    "df_anonymized[\"new_label_confidence\"] = confidence_scores"
   ]
  }
 ],
 "metadata": {
  "kernelspec": {
   "display_name": "Python 3 (ipykernel)",
   "language": "python",
   "name": "python3"
  },
  "language_info": {
   "codemirror_mode": {
    "name": "ipython",
    "version": 3
   },
   "file_extension": ".py",
   "mimetype": "text/x-python",
   "name": "python",
   "nbconvert_exporter": "python",
   "pygments_lexer": "ipython3",
   "version": "3.10.12"
  }
 },
 "nbformat": 4,
 "nbformat_minor": 5
}
